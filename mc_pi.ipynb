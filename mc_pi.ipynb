{
 "cells": [
  {
   "cell_type": "markdown",
   "metadata": {},
   "source": [
    "# MC integration\n",
    "\n",
    "We will use Monte Carlo (MC) to calculate $\\pi$ using the Python Standard Library"
   ]
  },
  {
   "cell_type": "code",
   "execution_count": 1,
   "metadata": {},
   "outputs": [],
   "source": [
    "import random\n",
    "import math\n",
    "import time \n",
    "import numpy as np"
   ]
  },
  {
   "cell_type": "code",
   "execution_count": null,
   "metadata": {},
   "outputs": [],
   "source": [
    "n_samples = 10000\n",
    "num_inside = 0"
   ]
  },
  {
   "cell_type": "code",
   "execution_count": null,
   "metadata": {},
   "outputs": [],
   "source": [
    "for i in range(n_samples):\n",
    "    \n",
    "    # Generate a random point between 0 and 1 for x\n",
    "    x = random.random()\n",
    "    \n",
    "    # Generate a random point between 0 and 1 for y\n",
    "    y = random.random()\n",
    "    \n",
    "    # Print the point\n",
    "    # print(F'The generated point is ({x},{y})')\n",
    "    \n",
    "    distance_from_origin = math.sqrt(x ** 2 + y ** 2)\n",
    "    \n",
    "    if distance_from_origin < 1:\n",
    "        num_inside += 1"
   ]
  },
  {
   "cell_type": "code",
   "execution_count": null,
   "metadata": {},
   "outputs": [],
   "source": [
    "# calculate pi\n",
    "my_pi = 4 * num_inside / n_samples"
   ]
  },
  {
   "cell_type": "code",
   "execution_count": null,
   "metadata": {},
   "outputs": [],
   "source": [
    "print(my_pi)"
   ]
  },
  {
   "cell_type": "code",
   "execution_count": null,
   "metadata": {},
   "outputs": [],
   "source": [
    "import matplotlib.pyplot as plt\n",
    "\n",
    "%matplotlib notebook\n",
    "# make plotting interactive"
   ]
  },
  {
   "cell_type": "code",
   "execution_count": null,
   "metadata": {},
   "outputs": [],
   "source": [
    "# Create empty figure\n",
    "fig = plt.figure()\n",
    "ax = fig.add_subplot(111)\n",
    "fig.show()"
   ]
  },
  {
   "cell_type": "code",
   "execution_count": null,
   "metadata": {},
   "outputs": [],
   "source": [
    "for i in range(n_samples):\n",
    "    \n",
    "    # Generate a random point between 0 and 1 for x\n",
    "    x = random.random()\n",
    "    \n",
    "    # Generate a random point between 0 and 1 for y\n",
    "    y = random.random()\n",
    "    \n",
    "    # Print the point\n",
    "    # print(F'The generated point is ({x},{y})')\n",
    "    \n",
    "    distance_from_origin = math.sqrt(x ** 2 + y ** 2)\n",
    "    \n",
    "    if distance_from_origin < 1:\n",
    "        num_inside += 1\n",
    "        ax.plot(x,y,'ob') # o - round; b - blue\n",
    "    else:\n",
    "        ax.plot(x,y,'r*') # r - red; * - asterisk"
   ]
  },
  {
   "cell_type": "code",
   "execution_count": null,
   "metadata": {},
   "outputs": [],
   "source": [
    "my_pi = 4 * num_inside / n_samples\n",
    "my_pi"
   ]
  },
  {
   "cell_type": "code",
   "execution_count": null,
   "metadata": {},
   "outputs": [],
   "source": [
    "n_samples = 1000\n",
    "num_inside = 0\n",
    "\n",
    "# Empty lists for appending\n",
    "calculate_pi = []\n",
    "n_values = []\n",
    "\n",
    "for i in range(1,n_samples+1):\n",
    "    \n",
    "    # Generate a random point between 0 and 1 for x\n",
    "    x = random.random()\n",
    "    \n",
    "    # Generate a random point between 0 and 1 for y\n",
    "    y = random.random()\n",
    "    \n",
    "    # Print the point\n",
    "    # print(F'The generated point is ({x},{y})')\n",
    "    \n",
    "    distance_from_origin = math.sqrt(x ** 2 + y ** 2)\n",
    "    \n",
    "    if distance_from_origin < 1:\n",
    "        num_inside += 1\n",
    "        ax.plot(x,y,'ob') # o - round; b - blue\n",
    "    else:\n",
    "        ax.plot(x,y,'r*') # r - red; * - asterisk\n",
    "        \n",
    "    log10 = math.log(i,10) # Calculate log10(i)\n",
    "    \n",
    "    if log10 % 1 == 0: # log10 as an integer\n",
    "        my_pi = 4*num_inside/i\n",
    "        calculate_pi.append(my_pi)\n",
    "        n_values.append(i)\n",
    "        \n",
    "        print(F'{i}\\t{my_pi}')"
   ]
  },
  {
   "cell_type": "code",
   "execution_count": 4,
   "metadata": {},
   "outputs": [
    {
     "name": "stdout",
     "output_type": "stream",
     "text": [
      "3.141656 calculated with 1000000 samples using Python Standard Library : 0.7251179218292236\n"
     ]
    }
   ],
   "source": [
    "start = time.time()\n",
    "\n",
    "n_samples = 1000000\n",
    "num_inside = 0\n",
    "\n",
    "for i in range(1,n_samples+1):\n",
    "    \n",
    "    # Generate a random point between 0 and 1 for x\n",
    "    x = random.random()\n",
    "    \n",
    "    # Generate a random point between 0 and 1 for y\n",
    "    y = random.random()\n",
    "    \n",
    "    # Print the point\n",
    "    # print(F'The generated point is ({x},{y})')\n",
    "    \n",
    "    distance_from_origin = math.sqrt(x ** 2 + y ** 2)\n",
    "    \n",
    "    if distance_from_origin < 1:\n",
    "        num_inside += 1\n",
    "        \n",
    "pi = 4 * num_inside / n_samples\n",
    "\n",
    "end = time.time()\n",
    "elapsed_time = end - start\n",
    "\n",
    "print(F\"{pi} calculated with {n_samples} samples using Python Standard Library : {elapsed_time}\")"
   ]
  },
  {
   "cell_type": "markdown",
   "metadata": {},
   "source": [
    "# NumPy Calculation of $\\pi$"
   ]
  },
  {
   "cell_type": "code",
   "execution_count": 5,
   "metadata": {},
   "outputs": [
    {
     "name": "stdout",
     "output_type": "stream",
     "text": [
      "3.142208 calculated with 1000000 samples using NumPy Library : 0.06436467170715332\n"
     ]
    }
   ],
   "source": [
    "# Start by using 100 samples.\n",
    "start = time.time()\n",
    "\n",
    "n_samples = 1000000\n",
    "\n",
    "random_numbers = np.random.random(size=(n_samples,2))\n",
    "\n",
    "vals = np.sum(random_numbers**2, axis=1)\n",
    "num_inside = np.sum(vals < 1)\n",
    "\n",
    "pi = 4 * num_inside / n_samples\n",
    "\n",
    "end = time.time()\n",
    "elapsed_time = end - start\n",
    "print(F\"{pi} calculated with {n_samples} samples using NumPy Library : {elapsed_time}\")"
   ]
  },
  {
   "cell_type": "code",
   "execution_count": null,
   "metadata": {},
   "outputs": [],
   "source": []
  }
 ],
 "metadata": {
  "kernelspec": {
   "display_name": "Python 3",
   "language": "python",
   "name": "python3"
  },
  "language_info": {
   "codemirror_mode": {
    "name": "ipython",
    "version": 3
   },
   "file_extension": ".py",
   "mimetype": "text/x-python",
   "name": "python",
   "nbconvert_exporter": "python",
   "pygments_lexer": "ipython3",
   "version": "3.7.7"
  }
 },
 "nbformat": 4,
 "nbformat_minor": 4
}
